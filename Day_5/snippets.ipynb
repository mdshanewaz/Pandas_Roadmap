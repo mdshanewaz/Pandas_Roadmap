{
 "cells": [
  {
   "cell_type": "code",
   "execution_count": 100,
   "id": "08436203-5463-4a5d-999e-bd3106015677",
   "metadata": {},
   "outputs": [],
   "source": [
    "import pandas as pd"
   ]
  },
  {
   "cell_type": "code",
   "execution_count": 101,
   "id": "aaf9f365-8ac3-45d4-a574-06679d05b68a",
   "metadata": {},
   "outputs": [],
   "source": [
    "people = {\n",
    "    'first' : ['Shah', 'Shah', 'Kawser'],\n",
    "    'last' : ['Newaz', 'Waliullah', 'Rana'],\n",
    "    'email' : ['demo1@mail.com', 'demo2@mail.com', 'demo3@mail.com'],\n",
    "    'age' : [23, 34, 45]\n",
    "}"
   ]
  },
  {
   "cell_type": "code",
   "execution_count": 102,
   "id": "1586ac9a-3a31-4606-9725-06a65e1f78ac",
   "metadata": {},
   "outputs": [],
   "source": [
    "df = pd.DataFrame(people)"
   ]
  },
  {
   "cell_type": "code",
   "execution_count": 103,
   "id": "d0307a9a-f0a9-40c7-8089-23d8a5ba8659",
   "metadata": {},
   "outputs": [
    {
     "data": {
      "text/html": [
       "<div>\n",
       "<style scoped>\n",
       "    .dataframe tbody tr th:only-of-type {\n",
       "        vertical-align: middle;\n",
       "    }\n",
       "\n",
       "    .dataframe tbody tr th {\n",
       "        vertical-align: top;\n",
       "    }\n",
       "\n",
       "    .dataframe thead th {\n",
       "        text-align: right;\n",
       "    }\n",
       "</style>\n",
       "<table border=\"1\" class=\"dataframe\">\n",
       "  <thead>\n",
       "    <tr style=\"text-align: right;\">\n",
       "      <th></th>\n",
       "      <th>first</th>\n",
       "      <th>last</th>\n",
       "      <th>email</th>\n",
       "      <th>age</th>\n",
       "    </tr>\n",
       "  </thead>\n",
       "  <tbody>\n",
       "    <tr>\n",
       "      <th>0</th>\n",
       "      <td>Shah</td>\n",
       "      <td>Newaz</td>\n",
       "      <td>demo1@mail.com</td>\n",
       "      <td>23</td>\n",
       "    </tr>\n",
       "    <tr>\n",
       "      <th>1</th>\n",
       "      <td>Shah</td>\n",
       "      <td>Waliullah</td>\n",
       "      <td>demo2@mail.com</td>\n",
       "      <td>34</td>\n",
       "    </tr>\n",
       "    <tr>\n",
       "      <th>2</th>\n",
       "      <td>Kawser</td>\n",
       "      <td>Rana</td>\n",
       "      <td>demo3@mail.com</td>\n",
       "      <td>45</td>\n",
       "    </tr>\n",
       "  </tbody>\n",
       "</table>\n",
       "</div>"
      ],
      "text/plain": [
       "    first       last           email  age\n",
       "0    Shah      Newaz  demo1@mail.com   23\n",
       "1    Shah  Waliullah  demo2@mail.com   34\n",
       "2  Kawser       Rana  demo3@mail.com   45"
      ]
     },
     "execution_count": 103,
     "metadata": {},
     "output_type": "execute_result"
    }
   ],
   "source": [
    "df"
   ]
  },
  {
   "cell_type": "code",
   "execution_count": 104,
   "id": "817d9625-a83e-41a5-b2cc-036b69157bf0",
   "metadata": {},
   "outputs": [
    {
     "data": {
      "text/plain": [
       "Index(['first', 'last', 'email', 'age'], dtype='object')"
      ]
     },
     "execution_count": 104,
     "metadata": {},
     "output_type": "execute_result"
    }
   ],
   "source": [
    "df.columns"
   ]
  },
  {
   "cell_type": "code",
   "execution_count": 105,
   "id": "9651f662-ea5c-4da2-b719-2b4186940314",
   "metadata": {},
   "outputs": [],
   "source": [
    "df.columns = ['First_Name', 'Last_Name', 'Email', 'age']"
   ]
  },
  {
   "cell_type": "code",
   "execution_count": 106,
   "id": "df8cc6b6-a9d1-485a-a3c0-8343efccbabf",
   "metadata": {},
   "outputs": [
    {
     "data": {
      "text/html": [
       "<div>\n",
       "<style scoped>\n",
       "    .dataframe tbody tr th:only-of-type {\n",
       "        vertical-align: middle;\n",
       "    }\n",
       "\n",
       "    .dataframe tbody tr th {\n",
       "        vertical-align: top;\n",
       "    }\n",
       "\n",
       "    .dataframe thead th {\n",
       "        text-align: right;\n",
       "    }\n",
       "</style>\n",
       "<table border=\"1\" class=\"dataframe\">\n",
       "  <thead>\n",
       "    <tr style=\"text-align: right;\">\n",
       "      <th></th>\n",
       "      <th>First_Name</th>\n",
       "      <th>Last_Name</th>\n",
       "      <th>Email</th>\n",
       "      <th>age</th>\n",
       "    </tr>\n",
       "  </thead>\n",
       "  <tbody>\n",
       "    <tr>\n",
       "      <th>0</th>\n",
       "      <td>Shah</td>\n",
       "      <td>Newaz</td>\n",
       "      <td>demo1@mail.com</td>\n",
       "      <td>23</td>\n",
       "    </tr>\n",
       "    <tr>\n",
       "      <th>1</th>\n",
       "      <td>Shah</td>\n",
       "      <td>Waliullah</td>\n",
       "      <td>demo2@mail.com</td>\n",
       "      <td>34</td>\n",
       "    </tr>\n",
       "    <tr>\n",
       "      <th>2</th>\n",
       "      <td>Kawser</td>\n",
       "      <td>Rana</td>\n",
       "      <td>demo3@mail.com</td>\n",
       "      <td>45</td>\n",
       "    </tr>\n",
       "  </tbody>\n",
       "</table>\n",
       "</div>"
      ],
      "text/plain": [
       "  First_Name  Last_Name           Email  age\n",
       "0       Shah      Newaz  demo1@mail.com   23\n",
       "1       Shah  Waliullah  demo2@mail.com   34\n",
       "2     Kawser       Rana  demo3@mail.com   45"
      ]
     },
     "execution_count": 106,
     "metadata": {},
     "output_type": "execute_result"
    }
   ],
   "source": [
    "df"
   ]
  },
  {
   "cell_type": "code",
   "execution_count": 107,
   "id": "70f69a8a-23bb-4697-98b4-947ae9b69c42",
   "metadata": {},
   "outputs": [],
   "source": [
    "df.columns = [x.upper() for x in df.columns]"
   ]
  },
  {
   "cell_type": "code",
   "execution_count": 108,
   "id": "2ac81b3e-8a4c-4558-9295-6d45903b83d7",
   "metadata": {},
   "outputs": [
    {
     "data": {
      "text/html": [
       "<div>\n",
       "<style scoped>\n",
       "    .dataframe tbody tr th:only-of-type {\n",
       "        vertical-align: middle;\n",
       "    }\n",
       "\n",
       "    .dataframe tbody tr th {\n",
       "        vertical-align: top;\n",
       "    }\n",
       "\n",
       "    .dataframe thead th {\n",
       "        text-align: right;\n",
       "    }\n",
       "</style>\n",
       "<table border=\"1\" class=\"dataframe\">\n",
       "  <thead>\n",
       "    <tr style=\"text-align: right;\">\n",
       "      <th></th>\n",
       "      <th>FIRST_NAME</th>\n",
       "      <th>LAST_NAME</th>\n",
       "      <th>EMAIL</th>\n",
       "      <th>AGE</th>\n",
       "    </tr>\n",
       "  </thead>\n",
       "  <tbody>\n",
       "    <tr>\n",
       "      <th>0</th>\n",
       "      <td>Shah</td>\n",
       "      <td>Newaz</td>\n",
       "      <td>demo1@mail.com</td>\n",
       "      <td>23</td>\n",
       "    </tr>\n",
       "    <tr>\n",
       "      <th>1</th>\n",
       "      <td>Shah</td>\n",
       "      <td>Waliullah</td>\n",
       "      <td>demo2@mail.com</td>\n",
       "      <td>34</td>\n",
       "    </tr>\n",
       "    <tr>\n",
       "      <th>2</th>\n",
       "      <td>Kawser</td>\n",
       "      <td>Rana</td>\n",
       "      <td>demo3@mail.com</td>\n",
       "      <td>45</td>\n",
       "    </tr>\n",
       "  </tbody>\n",
       "</table>\n",
       "</div>"
      ],
      "text/plain": [
       "  FIRST_NAME  LAST_NAME           EMAIL  AGE\n",
       "0       Shah      Newaz  demo1@mail.com   23\n",
       "1       Shah  Waliullah  demo2@mail.com   34\n",
       "2     Kawser       Rana  demo3@mail.com   45"
      ]
     },
     "execution_count": 108,
     "metadata": {},
     "output_type": "execute_result"
    }
   ],
   "source": [
    "df"
   ]
  },
  {
   "cell_type": "code",
   "execution_count": 109,
   "id": "5148634a-2716-42e0-b963-604aeb607548",
   "metadata": {},
   "outputs": [
    {
     "data": {
      "text/html": [
       "<div>\n",
       "<style scoped>\n",
       "    .dataframe tbody tr th:only-of-type {\n",
       "        vertical-align: middle;\n",
       "    }\n",
       "\n",
       "    .dataframe tbody tr th {\n",
       "        vertical-align: top;\n",
       "    }\n",
       "\n",
       "    .dataframe thead th {\n",
       "        text-align: right;\n",
       "    }\n",
       "</style>\n",
       "<table border=\"1\" class=\"dataframe\">\n",
       "  <thead>\n",
       "    <tr style=\"text-align: right;\">\n",
       "      <th></th>\n",
       "      <th>FIRST NAME</th>\n",
       "      <th>LAST NAME</th>\n",
       "      <th>EMAIL</th>\n",
       "      <th>AGE</th>\n",
       "    </tr>\n",
       "  </thead>\n",
       "  <tbody>\n",
       "    <tr>\n",
       "      <th>0</th>\n",
       "      <td>Shah</td>\n",
       "      <td>Newaz</td>\n",
       "      <td>demo1@mail.com</td>\n",
       "      <td>23</td>\n",
       "    </tr>\n",
       "    <tr>\n",
       "      <th>1</th>\n",
       "      <td>Shah</td>\n",
       "      <td>Waliullah</td>\n",
       "      <td>demo2@mail.com</td>\n",
       "      <td>34</td>\n",
       "    </tr>\n",
       "    <tr>\n",
       "      <th>2</th>\n",
       "      <td>Kawser</td>\n",
       "      <td>Rana</td>\n",
       "      <td>demo3@mail.com</td>\n",
       "      <td>45</td>\n",
       "    </tr>\n",
       "  </tbody>\n",
       "</table>\n",
       "</div>"
      ],
      "text/plain": [
       "  FIRST NAME  LAST NAME           EMAIL  AGE\n",
       "0       Shah      Newaz  demo1@mail.com   23\n",
       "1       Shah  Waliullah  demo2@mail.com   34\n",
       "2     Kawser       Rana  demo3@mail.com   45"
      ]
     },
     "execution_count": 109,
     "metadata": {},
     "output_type": "execute_result"
    }
   ],
   "source": [
    "df.columns = df.columns.str.replace('_', ' ')\n",
    "df"
   ]
  },
  {
   "cell_type": "code",
   "execution_count": 110,
   "id": "e49aa857-5ebe-409d-96b6-8c3413403b32",
   "metadata": {},
   "outputs": [
    {
     "data": {
      "text/html": [
       "<div>\n",
       "<style scoped>\n",
       "    .dataframe tbody tr th:only-of-type {\n",
       "        vertical-align: middle;\n",
       "    }\n",
       "\n",
       "    .dataframe tbody tr th {\n",
       "        vertical-align: top;\n",
       "    }\n",
       "\n",
       "    .dataframe thead th {\n",
       "        text-align: right;\n",
       "    }\n",
       "</style>\n",
       "<table border=\"1\" class=\"dataframe\">\n",
       "  <thead>\n",
       "    <tr style=\"text-align: right;\">\n",
       "      <th></th>\n",
       "      <th>FIRST_NAME</th>\n",
       "      <th>LAST_NAME</th>\n",
       "      <th>EMAIL</th>\n",
       "      <th>AGE</th>\n",
       "    </tr>\n",
       "  </thead>\n",
       "  <tbody>\n",
       "    <tr>\n",
       "      <th>0</th>\n",
       "      <td>Shah</td>\n",
       "      <td>Newaz</td>\n",
       "      <td>demo1@mail.com</td>\n",
       "      <td>23</td>\n",
       "    </tr>\n",
       "    <tr>\n",
       "      <th>1</th>\n",
       "      <td>Shah</td>\n",
       "      <td>Waliullah</td>\n",
       "      <td>demo2@mail.com</td>\n",
       "      <td>34</td>\n",
       "    </tr>\n",
       "    <tr>\n",
       "      <th>2</th>\n",
       "      <td>Kawser</td>\n",
       "      <td>Rana</td>\n",
       "      <td>demo3@mail.com</td>\n",
       "      <td>45</td>\n",
       "    </tr>\n",
       "  </tbody>\n",
       "</table>\n",
       "</div>"
      ],
      "text/plain": [
       "  FIRST_NAME  LAST_NAME           EMAIL  AGE\n",
       "0       Shah      Newaz  demo1@mail.com   23\n",
       "1       Shah  Waliullah  demo2@mail.com   34\n",
       "2     Kawser       Rana  demo3@mail.com   45"
      ]
     },
     "execution_count": 110,
     "metadata": {},
     "output_type": "execute_result"
    }
   ],
   "source": [
    "df.columns = df.columns.str.replace(' ', '_')\n",
    "df"
   ]
  },
  {
   "cell_type": "code",
   "execution_count": 111,
   "id": "54a7885c-1109-450f-8b72-adf45f4a34e0",
   "metadata": {},
   "outputs": [],
   "source": [
    "df.rename(columns={'FIRST_NAME' : 'first_name'}, inplace=True)"
   ]
  },
  {
   "cell_type": "code",
   "execution_count": 112,
   "id": "4fa8fcd4-8656-4c5d-88a4-52c1a734d6b0",
   "metadata": {},
   "outputs": [
    {
     "data": {
      "text/html": [
       "<div>\n",
       "<style scoped>\n",
       "    .dataframe tbody tr th:only-of-type {\n",
       "        vertical-align: middle;\n",
       "    }\n",
       "\n",
       "    .dataframe tbody tr th {\n",
       "        vertical-align: top;\n",
       "    }\n",
       "\n",
       "    .dataframe thead th {\n",
       "        text-align: right;\n",
       "    }\n",
       "</style>\n",
       "<table border=\"1\" class=\"dataframe\">\n",
       "  <thead>\n",
       "    <tr style=\"text-align: right;\">\n",
       "      <th></th>\n",
       "      <th>first_name</th>\n",
       "      <th>LAST_NAME</th>\n",
       "      <th>EMAIL</th>\n",
       "      <th>AGE</th>\n",
       "    </tr>\n",
       "  </thead>\n",
       "  <tbody>\n",
       "    <tr>\n",
       "      <th>0</th>\n",
       "      <td>Shah</td>\n",
       "      <td>Newaz</td>\n",
       "      <td>demo1@mail.com</td>\n",
       "      <td>23</td>\n",
       "    </tr>\n",
       "    <tr>\n",
       "      <th>1</th>\n",
       "      <td>Shah</td>\n",
       "      <td>Waliullah</td>\n",
       "      <td>demo2@mail.com</td>\n",
       "      <td>34</td>\n",
       "    </tr>\n",
       "    <tr>\n",
       "      <th>2</th>\n",
       "      <td>Kawser</td>\n",
       "      <td>Rana</td>\n",
       "      <td>demo3@mail.com</td>\n",
       "      <td>45</td>\n",
       "    </tr>\n",
       "  </tbody>\n",
       "</table>\n",
       "</div>"
      ],
      "text/plain": [
       "  first_name  LAST_NAME           EMAIL  AGE\n",
       "0       Shah      Newaz  demo1@mail.com   23\n",
       "1       Shah  Waliullah  demo2@mail.com   34\n",
       "2     Kawser       Rana  demo3@mail.com   45"
      ]
     },
     "execution_count": 112,
     "metadata": {},
     "output_type": "execute_result"
    }
   ],
   "source": [
    "df"
   ]
  },
  {
   "cell_type": "code",
   "execution_count": 113,
   "id": "343e4d2f-24c6-499b-a48d-eb1a3238e3df",
   "metadata": {},
   "outputs": [
    {
     "data": {
      "text/plain": [
       "first_name            Kawser\n",
       "LAST_NAME               Rana\n",
       "EMAIL         demo3@mail.com\n",
       "AGE                       45\n",
       "Name: 2, dtype: object"
      ]
     },
     "execution_count": 113,
     "metadata": {},
     "output_type": "execute_result"
    }
   ],
   "source": [
    "df.loc[2]"
   ]
  },
  {
   "cell_type": "code",
   "execution_count": 114,
   "id": "bd5d48dd-f425-4cd2-bfa9-302f466105c3",
   "metadata": {},
   "outputs": [],
   "source": [
    "df.loc[2] = ['Hamid', 'Kawser', 'rana@mail.com', 30]"
   ]
  },
  {
   "cell_type": "code",
   "execution_count": 115,
   "id": "1764133f-aab4-4509-9c8f-a8416baa88d9",
   "metadata": {},
   "outputs": [
    {
     "data": {
      "text/html": [
       "<div>\n",
       "<style scoped>\n",
       "    .dataframe tbody tr th:only-of-type {\n",
       "        vertical-align: middle;\n",
       "    }\n",
       "\n",
       "    .dataframe tbody tr th {\n",
       "        vertical-align: top;\n",
       "    }\n",
       "\n",
       "    .dataframe thead th {\n",
       "        text-align: right;\n",
       "    }\n",
       "</style>\n",
       "<table border=\"1\" class=\"dataframe\">\n",
       "  <thead>\n",
       "    <tr style=\"text-align: right;\">\n",
       "      <th></th>\n",
       "      <th>first_name</th>\n",
       "      <th>LAST_NAME</th>\n",
       "      <th>EMAIL</th>\n",
       "      <th>AGE</th>\n",
       "    </tr>\n",
       "  </thead>\n",
       "  <tbody>\n",
       "    <tr>\n",
       "      <th>0</th>\n",
       "      <td>Shah</td>\n",
       "      <td>Newaz</td>\n",
       "      <td>demo1@mail.com</td>\n",
       "      <td>23</td>\n",
       "    </tr>\n",
       "    <tr>\n",
       "      <th>1</th>\n",
       "      <td>Shah</td>\n",
       "      <td>Waliullah</td>\n",
       "      <td>demo2@mail.com</td>\n",
       "      <td>34</td>\n",
       "    </tr>\n",
       "    <tr>\n",
       "      <th>2</th>\n",
       "      <td>Hamid</td>\n",
       "      <td>Kawser</td>\n",
       "      <td>rana@mail.com</td>\n",
       "      <td>30</td>\n",
       "    </tr>\n",
       "  </tbody>\n",
       "</table>\n",
       "</div>"
      ],
      "text/plain": [
       "  first_name  LAST_NAME           EMAIL  AGE\n",
       "0       Shah      Newaz  demo1@mail.com   23\n",
       "1       Shah  Waliullah  demo2@mail.com   34\n",
       "2      Hamid     Kawser   rana@mail.com   30"
      ]
     },
     "execution_count": 115,
     "metadata": {},
     "output_type": "execute_result"
    }
   ],
   "source": [
    "df"
   ]
  },
  {
   "cell_type": "code",
   "execution_count": 116,
   "id": "5f354d17-849f-4698-ae73-b37b93c28908",
   "metadata": {},
   "outputs": [
    {
     "data": {
      "text/plain": [
       "first_name            Hamid\n",
       "EMAIL         rana@mail.com\n",
       "Name: 2, dtype: object"
      ]
     },
     "execution_count": 116,
     "metadata": {},
     "output_type": "execute_result"
    }
   ],
   "source": [
    "df.loc[2, ['first_name', 'EMAIL']]"
   ]
  },
  {
   "cell_type": "code",
   "execution_count": 117,
   "id": "9ad4bef7-b006-44f0-9808-ffd21c1eb776",
   "metadata": {},
   "outputs": [],
   "source": [
    "df.loc[2, ['first_name', 'EMAIL']] = ['Kawser', 'rananew@mail.com']"
   ]
  },
  {
   "cell_type": "code",
   "execution_count": 118,
   "id": "19dc2fff-dab0-481e-af7c-0b0b84a6e3ef",
   "metadata": {},
   "outputs": [
    {
     "data": {
      "text/html": [
       "<div>\n",
       "<style scoped>\n",
       "    .dataframe tbody tr th:only-of-type {\n",
       "        vertical-align: middle;\n",
       "    }\n",
       "\n",
       "    .dataframe tbody tr th {\n",
       "        vertical-align: top;\n",
       "    }\n",
       "\n",
       "    .dataframe thead th {\n",
       "        text-align: right;\n",
       "    }\n",
       "</style>\n",
       "<table border=\"1\" class=\"dataframe\">\n",
       "  <thead>\n",
       "    <tr style=\"text-align: right;\">\n",
       "      <th></th>\n",
       "      <th>first_name</th>\n",
       "      <th>LAST_NAME</th>\n",
       "      <th>EMAIL</th>\n",
       "      <th>AGE</th>\n",
       "    </tr>\n",
       "  </thead>\n",
       "  <tbody>\n",
       "    <tr>\n",
       "      <th>0</th>\n",
       "      <td>Shah</td>\n",
       "      <td>Newaz</td>\n",
       "      <td>demo1@mail.com</td>\n",
       "      <td>23</td>\n",
       "    </tr>\n",
       "    <tr>\n",
       "      <th>1</th>\n",
       "      <td>Shah</td>\n",
       "      <td>Waliullah</td>\n",
       "      <td>demo2@mail.com</td>\n",
       "      <td>34</td>\n",
       "    </tr>\n",
       "    <tr>\n",
       "      <th>2</th>\n",
       "      <td>Kawser</td>\n",
       "      <td>Kawser</td>\n",
       "      <td>rananew@mail.com</td>\n",
       "      <td>30</td>\n",
       "    </tr>\n",
       "  </tbody>\n",
       "</table>\n",
       "</div>"
      ],
      "text/plain": [
       "  first_name  LAST_NAME             EMAIL  AGE\n",
       "0       Shah      Newaz    demo1@mail.com   23\n",
       "1       Shah  Waliullah    demo2@mail.com   34\n",
       "2     Kawser     Kawser  rananew@mail.com   30"
      ]
     },
     "execution_count": 118,
     "metadata": {},
     "output_type": "execute_result"
    }
   ],
   "source": [
    "df"
   ]
  },
  {
   "cell_type": "code",
   "execution_count": 119,
   "id": "1a73bca7-8fda-480b-bfdf-ff007e6aa97a",
   "metadata": {},
   "outputs": [],
   "source": [
    "df.loc[2, 'first_name'] = 'Rana'"
   ]
  },
  {
   "cell_type": "code",
   "execution_count": 120,
   "id": "bd6aa6ef-7488-4ca9-907a-3b92ee56de55",
   "metadata": {},
   "outputs": [
    {
     "data": {
      "text/html": [
       "<div>\n",
       "<style scoped>\n",
       "    .dataframe tbody tr th:only-of-type {\n",
       "        vertical-align: middle;\n",
       "    }\n",
       "\n",
       "    .dataframe tbody tr th {\n",
       "        vertical-align: top;\n",
       "    }\n",
       "\n",
       "    .dataframe thead th {\n",
       "        text-align: right;\n",
       "    }\n",
       "</style>\n",
       "<table border=\"1\" class=\"dataframe\">\n",
       "  <thead>\n",
       "    <tr style=\"text-align: right;\">\n",
       "      <th></th>\n",
       "      <th>first_name</th>\n",
       "      <th>LAST_NAME</th>\n",
       "      <th>EMAIL</th>\n",
       "      <th>AGE</th>\n",
       "    </tr>\n",
       "  </thead>\n",
       "  <tbody>\n",
       "    <tr>\n",
       "      <th>0</th>\n",
       "      <td>Shah</td>\n",
       "      <td>Newaz</td>\n",
       "      <td>demo1@mail.com</td>\n",
       "      <td>23</td>\n",
       "    </tr>\n",
       "    <tr>\n",
       "      <th>1</th>\n",
       "      <td>Shah</td>\n",
       "      <td>Waliullah</td>\n",
       "      <td>demo2@mail.com</td>\n",
       "      <td>34</td>\n",
       "    </tr>\n",
       "    <tr>\n",
       "      <th>2</th>\n",
       "      <td>Rana</td>\n",
       "      <td>Kawser</td>\n",
       "      <td>rananew@mail.com</td>\n",
       "      <td>30</td>\n",
       "    </tr>\n",
       "  </tbody>\n",
       "</table>\n",
       "</div>"
      ],
      "text/plain": [
       "  first_name  LAST_NAME             EMAIL  AGE\n",
       "0       Shah      Newaz    demo1@mail.com   23\n",
       "1       Shah  Waliullah    demo2@mail.com   34\n",
       "2       Rana     Kawser  rananew@mail.com   30"
      ]
     },
     "execution_count": 120,
     "metadata": {},
     "output_type": "execute_result"
    }
   ],
   "source": [
    "df"
   ]
  },
  {
   "cell_type": "code",
   "execution_count": 121,
   "id": "0a593c20-2732-4674-8179-646bb31c9068",
   "metadata": {},
   "outputs": [
    {
     "data": {
      "text/plain": [
       "0    Newaz\n",
       "Name: LAST_NAME, dtype: object"
      ]
     },
     "execution_count": 121,
     "metadata": {},
     "output_type": "execute_result"
    }
   ],
   "source": [
    "fltr = (df['EMAIL'] == 'demo1@mail.com')\n",
    "df[fltr]['LAST_NAME']"
   ]
  },
  {
   "cell_type": "code",
   "execution_count": 66,
   "id": "e4a62b3c-b309-4c0d-9e1b-9df19de0dc20",
   "metadata": {},
   "outputs": [],
   "source": [
    "fltr = (df['EMAIL'] == 'demo1@mail.com')\n",
    "df.loc[fltr, 'LAST_NAME'] = 'Shawon'"
   ]
  },
  {
   "cell_type": "code",
   "execution_count": 122,
   "id": "cb37df7f-37b8-4687-8bc0-aa0d6fe55ee0",
   "metadata": {},
   "outputs": [
    {
     "data": {
      "text/html": [
       "<div>\n",
       "<style scoped>\n",
       "    .dataframe tbody tr th:only-of-type {\n",
       "        vertical-align: middle;\n",
       "    }\n",
       "\n",
       "    .dataframe tbody tr th {\n",
       "        vertical-align: top;\n",
       "    }\n",
       "\n",
       "    .dataframe thead th {\n",
       "        text-align: right;\n",
       "    }\n",
       "</style>\n",
       "<table border=\"1\" class=\"dataframe\">\n",
       "  <thead>\n",
       "    <tr style=\"text-align: right;\">\n",
       "      <th></th>\n",
       "      <th>first_name</th>\n",
       "      <th>LAST_NAME</th>\n",
       "      <th>EMAIL</th>\n",
       "      <th>AGE</th>\n",
       "    </tr>\n",
       "  </thead>\n",
       "  <tbody>\n",
       "    <tr>\n",
       "      <th>0</th>\n",
       "      <td>Shah</td>\n",
       "      <td>Newaz</td>\n",
       "      <td>demo1@mail.com</td>\n",
       "      <td>23</td>\n",
       "    </tr>\n",
       "    <tr>\n",
       "      <th>1</th>\n",
       "      <td>Shah</td>\n",
       "      <td>Waliullah</td>\n",
       "      <td>demo2@mail.com</td>\n",
       "      <td>34</td>\n",
       "    </tr>\n",
       "    <tr>\n",
       "      <th>2</th>\n",
       "      <td>Rana</td>\n",
       "      <td>Kawser</td>\n",
       "      <td>rananew@mail.com</td>\n",
       "      <td>30</td>\n",
       "    </tr>\n",
       "  </tbody>\n",
       "</table>\n",
       "</div>"
      ],
      "text/plain": [
       "  first_name  LAST_NAME             EMAIL  AGE\n",
       "0       Shah      Newaz    demo1@mail.com   23\n",
       "1       Shah  Waliullah    demo2@mail.com   34\n",
       "2       Rana     Kawser  rananew@mail.com   30"
      ]
     },
     "execution_count": 122,
     "metadata": {},
     "output_type": "execute_result"
    }
   ],
   "source": [
    "df"
   ]
  },
  {
   "cell_type": "code",
   "execution_count": 124,
   "id": "f4acd320-112c-4054-a5cd-ab190787d334",
   "metadata": {},
   "outputs": [
    {
     "data": {
      "text/plain": [
       "0    14\n",
       "1    14\n",
       "2    16\n",
       "Name: EMAIL, dtype: int64"
      ]
     },
     "execution_count": 124,
     "metadata": {},
     "output_type": "execute_result"
    }
   ],
   "source": [
    "df['EMAIL'].apply(len)"
   ]
  },
  {
   "cell_type": "code",
   "execution_count": 125,
   "id": "1fce8552-31f9-4323-a148-42b37abdffa3",
   "metadata": {},
   "outputs": [],
   "source": [
    "def update_email(email):\n",
    "    return email.upper()"
   ]
  },
  {
   "cell_type": "code",
   "execution_count": 126,
   "id": "b03f1e3e-2839-4090-9c3a-afd4156e0d6f",
   "metadata": {},
   "outputs": [
    {
     "data": {
      "text/plain": [
       "0      DEMO1@MAIL.COM\n",
       "1      DEMO2@MAIL.COM\n",
       "2    RANANEW@MAIL.COM\n",
       "Name: EMAIL, dtype: object"
      ]
     },
     "execution_count": 126,
     "metadata": {},
     "output_type": "execute_result"
    }
   ],
   "source": [
    "df['EMAIL'].apply(update_email)"
   ]
  },
  {
   "cell_type": "code",
   "execution_count": 127,
   "id": "b9e49693-7d57-425e-9de8-66ab9ce060e9",
   "metadata": {},
   "outputs": [
    {
     "data": {
      "text/html": [
       "<div>\n",
       "<style scoped>\n",
       "    .dataframe tbody tr th:only-of-type {\n",
       "        vertical-align: middle;\n",
       "    }\n",
       "\n",
       "    .dataframe tbody tr th {\n",
       "        vertical-align: top;\n",
       "    }\n",
       "\n",
       "    .dataframe thead th {\n",
       "        text-align: right;\n",
       "    }\n",
       "</style>\n",
       "<table border=\"1\" class=\"dataframe\">\n",
       "  <thead>\n",
       "    <tr style=\"text-align: right;\">\n",
       "      <th></th>\n",
       "      <th>first_name</th>\n",
       "      <th>LAST_NAME</th>\n",
       "      <th>EMAIL</th>\n",
       "      <th>AGE</th>\n",
       "    </tr>\n",
       "  </thead>\n",
       "  <tbody>\n",
       "    <tr>\n",
       "      <th>0</th>\n",
       "      <td>Shah</td>\n",
       "      <td>Newaz</td>\n",
       "      <td>demo1@mail.com</td>\n",
       "      <td>23</td>\n",
       "    </tr>\n",
       "    <tr>\n",
       "      <th>1</th>\n",
       "      <td>Shah</td>\n",
       "      <td>Waliullah</td>\n",
       "      <td>demo2@mail.com</td>\n",
       "      <td>34</td>\n",
       "    </tr>\n",
       "    <tr>\n",
       "      <th>2</th>\n",
       "      <td>Rana</td>\n",
       "      <td>Kawser</td>\n",
       "      <td>rananew@mail.com</td>\n",
       "      <td>30</td>\n",
       "    </tr>\n",
       "  </tbody>\n",
       "</table>\n",
       "</div>"
      ],
      "text/plain": [
       "  first_name  LAST_NAME             EMAIL  AGE\n",
       "0       Shah      Newaz    demo1@mail.com   23\n",
       "1       Shah  Waliullah    demo2@mail.com   34\n",
       "2       Rana     Kawser  rananew@mail.com   30"
      ]
     },
     "execution_count": 127,
     "metadata": {},
     "output_type": "execute_result"
    }
   ],
   "source": [
    "df"
   ]
  },
  {
   "cell_type": "code",
   "execution_count": 128,
   "id": "d7ec4743-97f5-49f9-a0c3-8e6e051f8694",
   "metadata": {},
   "outputs": [],
   "source": [
    "df['EMAIL'] = df['EMAIL'].apply(update_email)"
   ]
  },
  {
   "cell_type": "code",
   "execution_count": 129,
   "id": "c3223bdc-202b-4079-8f2b-a36e2d39bd3a",
   "metadata": {},
   "outputs": [
    {
     "data": {
      "text/html": [
       "<div>\n",
       "<style scoped>\n",
       "    .dataframe tbody tr th:only-of-type {\n",
       "        vertical-align: middle;\n",
       "    }\n",
       "\n",
       "    .dataframe tbody tr th {\n",
       "        vertical-align: top;\n",
       "    }\n",
       "\n",
       "    .dataframe thead th {\n",
       "        text-align: right;\n",
       "    }\n",
       "</style>\n",
       "<table border=\"1\" class=\"dataframe\">\n",
       "  <thead>\n",
       "    <tr style=\"text-align: right;\">\n",
       "      <th></th>\n",
       "      <th>first_name</th>\n",
       "      <th>LAST_NAME</th>\n",
       "      <th>EMAIL</th>\n",
       "      <th>AGE</th>\n",
       "    </tr>\n",
       "  </thead>\n",
       "  <tbody>\n",
       "    <tr>\n",
       "      <th>0</th>\n",
       "      <td>Shah</td>\n",
       "      <td>Newaz</td>\n",
       "      <td>DEMO1@MAIL.COM</td>\n",
       "      <td>23</td>\n",
       "    </tr>\n",
       "    <tr>\n",
       "      <th>1</th>\n",
       "      <td>Shah</td>\n",
       "      <td>Waliullah</td>\n",
       "      <td>DEMO2@MAIL.COM</td>\n",
       "      <td>34</td>\n",
       "    </tr>\n",
       "    <tr>\n",
       "      <th>2</th>\n",
       "      <td>Rana</td>\n",
       "      <td>Kawser</td>\n",
       "      <td>RANANEW@MAIL.COM</td>\n",
       "      <td>30</td>\n",
       "    </tr>\n",
       "  </tbody>\n",
       "</table>\n",
       "</div>"
      ],
      "text/plain": [
       "  first_name  LAST_NAME             EMAIL  AGE\n",
       "0       Shah      Newaz    DEMO1@MAIL.COM   23\n",
       "1       Shah  Waliullah    DEMO2@MAIL.COM   34\n",
       "2       Rana     Kawser  RANANEW@MAIL.COM   30"
      ]
     },
     "execution_count": 129,
     "metadata": {},
     "output_type": "execute_result"
    }
   ],
   "source": [
    "df"
   ]
  },
  {
   "cell_type": "code",
   "execution_count": 130,
   "id": "c1ed12d0-c2f0-4507-95c6-6b84cfd013fe",
   "metadata": {},
   "outputs": [],
   "source": [
    "df['EMAIL'] = df['EMAIL'].apply(lambda x: x.lower())"
   ]
  },
  {
   "cell_type": "code",
   "execution_count": 131,
   "id": "e6ecf86d-3d03-4fcc-922d-f12109ddb225",
   "metadata": {},
   "outputs": [
    {
     "data": {
      "text/plain": [
       "0    14\n",
       "1    14\n",
       "2    16\n",
       "Name: EMAIL, dtype: int64"
      ]
     },
     "execution_count": 131,
     "metadata": {},
     "output_type": "execute_result"
    }
   ],
   "source": [
    "df['EMAIL'].apply(len)"
   ]
  },
  {
   "cell_type": "code",
   "execution_count": 132,
   "id": "e0bc5b80-69fa-4cd7-a975-43d2de4273df",
   "metadata": {},
   "outputs": [
    {
     "data": {
      "text/plain": [
       "first_name    3\n",
       "LAST_NAME     3\n",
       "EMAIL         3\n",
       "AGE           3\n",
       "dtype: int64"
      ]
     },
     "execution_count": 132,
     "metadata": {},
     "output_type": "execute_result"
    }
   ],
   "source": [
    "df.apply(len)"
   ]
  },
  {
   "cell_type": "code",
   "execution_count": 134,
   "id": "2a890707-19b8-428e-b09b-eda434828bb1",
   "metadata": {},
   "outputs": [
    {
     "data": {
      "text/plain": [
       "first_name    3\n",
       "LAST_NAME     3\n",
       "EMAIL         3\n",
       "AGE           3\n",
       "dtype: int64"
      ]
     },
     "execution_count": 134,
     "metadata": {},
     "output_type": "execute_result"
    }
   ],
   "source": [
    "df.apply(len, axis='rows')"
   ]
  },
  {
   "cell_type": "code",
   "execution_count": 135,
   "id": "1788da42-f326-4518-ad92-24994bf85f98",
   "metadata": {},
   "outputs": [
    {
     "data": {
      "text/plain": [
       "0    4\n",
       "1    4\n",
       "2    4\n",
       "dtype: int64"
      ]
     },
     "execution_count": 135,
     "metadata": {},
     "output_type": "execute_result"
    }
   ],
   "source": [
    "df.apply(len, axis='columns')"
   ]
  },
  {
   "cell_type": "code",
   "execution_count": 136,
   "id": "ee2b47eb-ab1f-4865-8aa8-e8c41ce96789",
   "metadata": {},
   "outputs": [
    {
     "data": {
      "text/plain": [
       "first_name              Rana\n",
       "LAST_NAME             Kawser\n",
       "EMAIL         demo1@mail.com\n",
       "AGE                       23\n",
       "dtype: object"
      ]
     },
     "execution_count": 136,
     "metadata": {},
     "output_type": "execute_result"
    }
   ],
   "source": [
    "df.apply(pd.Series.min)"
   ]
  },
  {
   "cell_type": "code",
   "execution_count": 137,
   "id": "ab3f745c-b188-4189-a7cc-335bb7b1a788",
   "metadata": {},
   "outputs": [
    {
     "data": {
      "text/plain": [
       "first_name              Rana\n",
       "LAST_NAME             Kawser\n",
       "EMAIL         demo1@mail.com\n",
       "AGE                       23\n",
       "dtype: object"
      ]
     },
     "execution_count": 137,
     "metadata": {},
     "output_type": "execute_result"
    }
   ],
   "source": [
    "df.apply(lambda x: x.min())"
   ]
  },
  {
   "cell_type": "code",
   "execution_count": 163,
   "id": "57507e37-012f-40f4-a8af-d769be03b3d9",
   "metadata": {},
   "outputs": [
    {
     "data": {
      "text/html": [
       "<div>\n",
       "<style scoped>\n",
       "    .dataframe tbody tr th:only-of-type {\n",
       "        vertical-align: middle;\n",
       "    }\n",
       "\n",
       "    .dataframe tbody tr th {\n",
       "        vertical-align: top;\n",
       "    }\n",
       "\n",
       "    .dataframe thead th {\n",
       "        text-align: right;\n",
       "    }\n",
       "</style>\n",
       "<table border=\"1\" class=\"dataframe\">\n",
       "  <thead>\n",
       "    <tr style=\"text-align: right;\">\n",
       "      <th></th>\n",
       "      <th>first_name</th>\n",
       "      <th>LAST_NAME</th>\n",
       "      <th>EMAIL</th>\n",
       "      <th>AGE</th>\n",
       "    </tr>\n",
       "  </thead>\n",
       "  <tbody>\n",
       "    <tr>\n",
       "      <th>0</th>\n",
       "      <td>4</td>\n",
       "      <td>5</td>\n",
       "      <td>14</td>\n",
       "      <td>2</td>\n",
       "    </tr>\n",
       "    <tr>\n",
       "      <th>1</th>\n",
       "      <td>4</td>\n",
       "      <td>9</td>\n",
       "      <td>14</td>\n",
       "      <td>2</td>\n",
       "    </tr>\n",
       "    <tr>\n",
       "      <th>2</th>\n",
       "      <td>4</td>\n",
       "      <td>6</td>\n",
       "      <td>16</td>\n",
       "      <td>2</td>\n",
       "    </tr>\n",
       "  </tbody>\n",
       "</table>\n",
       "</div>"
      ],
      "text/plain": [
       "   first_name  LAST_NAME  EMAIL  AGE\n",
       "0           4          5     14    2\n",
       "1           4          9     14    2\n",
       "2           4          6     16    2"
      ]
     },
     "execution_count": 163,
     "metadata": {},
     "output_type": "execute_result"
    }
   ],
   "source": [
    "df.map(lambda x : len(str(x)))"
   ]
  },
  {
   "cell_type": "code",
   "execution_count": 164,
   "id": "5ec32e8a-6a5e-4086-ab85-806386c83335",
   "metadata": {},
   "outputs": [
    {
     "data": {
      "text/html": [
       "<div>\n",
       "<style scoped>\n",
       "    .dataframe tbody tr th:only-of-type {\n",
       "        vertical-align: middle;\n",
       "    }\n",
       "\n",
       "    .dataframe tbody tr th {\n",
       "        vertical-align: top;\n",
       "    }\n",
       "\n",
       "    .dataframe thead th {\n",
       "        text-align: right;\n",
       "    }\n",
       "</style>\n",
       "<table border=\"1\" class=\"dataframe\">\n",
       "  <thead>\n",
       "    <tr style=\"text-align: right;\">\n",
       "      <th></th>\n",
       "      <th>first_name</th>\n",
       "      <th>LAST_NAME</th>\n",
       "      <th>EMAIL</th>\n",
       "      <th>AGE</th>\n",
       "    </tr>\n",
       "  </thead>\n",
       "  <tbody>\n",
       "    <tr>\n",
       "      <th>0</th>\n",
       "      <td>Shah</td>\n",
       "      <td>Newaz</td>\n",
       "      <td>demo1@mail.com</td>\n",
       "      <td>23</td>\n",
       "    </tr>\n",
       "    <tr>\n",
       "      <th>1</th>\n",
       "      <td>Shah</td>\n",
       "      <td>Waliullah</td>\n",
       "      <td>demo2@mail.com</td>\n",
       "      <td>34</td>\n",
       "    </tr>\n",
       "    <tr>\n",
       "      <th>2</th>\n",
       "      <td>Rana</td>\n",
       "      <td>Kawser</td>\n",
       "      <td>rananew@mail.com</td>\n",
       "      <td>30</td>\n",
       "    </tr>\n",
       "  </tbody>\n",
       "</table>\n",
       "</div>"
      ],
      "text/plain": [
       "  first_name  LAST_NAME             EMAIL  AGE\n",
       "0       Shah      Newaz    demo1@mail.com   23\n",
       "1       Shah  Waliullah    demo2@mail.com   34\n",
       "2       Rana     Kawser  rananew@mail.com   30"
      ]
     },
     "execution_count": 164,
     "metadata": {},
     "output_type": "execute_result"
    }
   ],
   "source": [
    "df"
   ]
  },
  {
   "cell_type": "code",
   "execution_count": 167,
   "id": "37541e92-459c-4317-9cfd-8f1ffc5ae365",
   "metadata": {},
   "outputs": [
    {
     "data": {
      "text/plain": [
       "0    Shawon\n",
       "1       NaN\n",
       "2     Hamid\n",
       "Name: LAST_NAME, dtype: object"
      ]
     },
     "execution_count": 167,
     "metadata": {},
     "output_type": "execute_result"
    }
   ],
   "source": [
    "df['LAST_NAME'].map({'Newaz':'Shawon', 'Kawser':'Hamid'})"
   ]
  },
  {
   "cell_type": "code",
   "execution_count": 168,
   "id": "79bc59c0-a2af-4d0a-8a4e-3980e397563d",
   "metadata": {},
   "outputs": [
    {
     "data": {
      "text/plain": [
       "0       Shawon\n",
       "1    Waliullah\n",
       "2        Hamid\n",
       "Name: LAST_NAME, dtype: object"
      ]
     },
     "execution_count": 168,
     "metadata": {},
     "output_type": "execute_result"
    }
   ],
   "source": [
    "df['LAST_NAME'].replace({'Newaz':'Shawon', 'Kawser':'Hamid'})"
   ]
  },
  {
   "cell_type": "code",
   "execution_count": null,
   "id": "cc672baf-6b5b-4dab-84ff-8db01a431b8a",
   "metadata": {},
   "outputs": [],
   "source": []
  }
 ],
 "metadata": {
  "kernelspec": {
   "display_name": "Python 3 (ipykernel)",
   "language": "python",
   "name": "python3"
  },
  "language_info": {
   "codemirror_mode": {
    "name": "ipython",
    "version": 3
   },
   "file_extension": ".py",
   "mimetype": "text/x-python",
   "name": "python",
   "nbconvert_exporter": "python",
   "pygments_lexer": "ipython3",
   "version": "3.12.1"
  }
 },
 "nbformat": 4,
 "nbformat_minor": 5
}
